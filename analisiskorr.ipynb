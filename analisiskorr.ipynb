{
  "nbformat": 4,
  "nbformat_minor": 0,
  "metadata": {
    "kernelspec": {
      "display_name": "Python 3",
      "language": "python",
      "name": "python3"
    },
    "language_info": {
      "codemirror_mode": {
        "name": "ipython",
        "version": 3
      },
      "file_extension": ".py",
      "mimetype": "text/x-python",
      "name": "python",
      "nbconvert_exporter": "python",
      "pygments_lexer": "ipython3",
      "version": "3.8.3"
    },
    "colab": {
      "name": "analisiskorr.ipynb",
      "provenance": []
    }
  },
  "cells": [
    {
      "cell_type": "code",
      "metadata": {
        "colab": {
          "base_uri": "https://localhost:8080/"
        },
        "id": "wkXoI56Y4BtY",
        "outputId": "8e57932b-d887-4829-dbac-57e5d3633fd9"
      },
      "source": [
        "from google.colab import drive\n",
        "drive.mount(\"/content/gdrive\")"
      ],
      "execution_count": null,
      "outputs": [
        {
          "output_type": "stream",
          "text": [
            "Mounted at /content/gdrive\n"
          ],
          "name": "stdout"
        }
      ]
    },
    {
      "cell_type": "code",
      "metadata": {
        "colab": {
          "base_uri": "https://localhost:8080/",
          "height": 419
        },
        "id": "0dwJBH4N3zjK",
        "outputId": "23910ba0-710a-4005-c695-5763fec899b3"
      },
      "source": [
        "import pandas\n",
        "tweet_sentiment = pandas.read_csv('/content/gdrive/MyDrive/tweet-clean-pola2.csv')\n",
        "tweet_sentiment"
      ],
      "execution_count": null,
      "outputs": [
        {
          "output_type": "execute_result",
          "data": {
            "text/html": [
              "<div>\n",
              "<style scoped>\n",
              "    .dataframe tbody tr th:only-of-type {\n",
              "        vertical-align: middle;\n",
              "    }\n",
              "\n",
              "    .dataframe tbody tr th {\n",
              "        vertical-align: top;\n",
              "    }\n",
              "\n",
              "    .dataframe thead th {\n",
              "        text-align: right;\n",
              "    }\n",
              "</style>\n",
              "<table border=\"1\" class=\"dataframe\">\n",
              "  <thead>\n",
              "    <tr style=\"text-align: right;\">\n",
              "      <th></th>\n",
              "      <th>Unnamed: 0</th>\n",
              "      <th>full_text</th>\n",
              "      <th>date</th>\n",
              "      <th>polarity</th>\n",
              "      <th>subjectivity</th>\n",
              "      <th>analysis</th>\n",
              "    </tr>\n",
              "  </thead>\n",
              "  <tbody>\n",
              "    <tr>\n",
              "      <th>0</th>\n",
              "      <td>0</td>\n",
              "      <td>bbri lot stock money house, okay?</td>\n",
              "      <td>Mon Jul 19 07:13:44 +0000 2021</td>\n",
              "      <td>0.5</td>\n",
              "      <td>0.5</td>\n",
              "      <td>Positive</td>\n",
              "    </tr>\n",
              "    <tr>\n",
              "      <th>1</th>\n",
              "      <td>1</td>\n",
              "      <td>bbri full of positive prospects check analysis</td>\n",
              "      <td>Mon Jul 19 07:03:49 +0000 2021</td>\n",
              "      <td>28.863.636.363.636.300</td>\n",
              "      <td>5.477.272.727.272.720</td>\n",
              "      <td>Positive</td>\n",
              "    </tr>\n",
              "    <tr>\n",
              "      <th>2</th>\n",
              "      <td>2</td>\n",
              "      <td>share bbri lot aja</td>\n",
              "      <td>Mon Jul 19 05:48:39 +0000 2021</td>\n",
              "      <td>0.0</td>\n",
              "      <td>0.0</td>\n",
              "      <td>Neutral</td>\n",
              "    </tr>\n",
              "    <tr>\n",
              "      <th>3</th>\n",
              "      <td>3</td>\n",
              "      <td>rights issue bbri holding ultramicro</td>\n",
              "      <td>Mon Jul 19 05:32:19 +0000 2021</td>\n",
              "      <td>0.0</td>\n",
              "      <td>0.0</td>\n",
              "      <td>Neutral</td>\n",
              "    </tr>\n",
              "    <tr>\n",
              "      <th>4</th>\n",
              "      <td>4</td>\n",
              "      <td>bbri</td>\n",
              "      <td>Mon Jul 19 04:11:27 +0000 2021</td>\n",
              "      <td>0.0</td>\n",
              "      <td>0.0</td>\n",
              "      <td>Neutral</td>\n",
              "    </tr>\n",
              "    <tr>\n",
              "      <th>...</th>\n",
              "      <td>...</td>\n",
              "      <td>...</td>\n",
              "      <td>...</td>\n",
              "      <td>...</td>\n",
              "      <td>...</td>\n",
              "      <td>...</td>\n",
              "    </tr>\n",
              "    <tr>\n",
              "      <th>253</th>\n",
              "      <td>253</td>\n",
              "      <td>jih lot bbri ga wkwkwkwk</td>\n",
              "      <td>Sun Jul 11 15:52:42 +0000 2021</td>\n",
              "      <td>0.0</td>\n",
              "      <td>0.0</td>\n",
              "      <td>Neutral</td>\n",
              "    </tr>\n",
              "    <tr>\n",
              "      <th>254</th>\n",
              "      <td>254</td>\n",
              "      <td>one of the bosses of pt agroniaga tbk agro jk ...</td>\n",
              "      <td>Sun Jul 11 14:18:31 +0000 2021</td>\n",
              "      <td>0.0</td>\n",
              "      <td>0.0</td>\n",
              "      <td>Neutral</td>\n",
              "    </tr>\n",
              "    <tr>\n",
              "      <th>255</th>\n",
              "      <td>255</td>\n",
              "      <td>stock bandarmology analysis ihsg bbri agro bmh...</td>\n",
              "      <td>Sun Jul 11 09:04:07 +0000 2021</td>\n",
              "      <td>0.0</td>\n",
              "      <td>0.0</td>\n",
              "      <td>Neutral</td>\n",
              "    </tr>\n",
              "    <tr>\n",
              "      <th>256</th>\n",
              "      <td>256</td>\n",
              "      <td>stock bandarmology analysis ihsg bbri agro bmh...</td>\n",
              "      <td>Sun Jul 11 05:16:21 +0000 2021</td>\n",
              "      <td>0.0</td>\n",
              "      <td>0.0</td>\n",
              "      <td>Neutral</td>\n",
              "    </tr>\n",
              "    <tr>\n",
              "      <th>257</th>\n",
              "      <td>257</td>\n",
              "      <td>SOEs sell for free and become part of the shar...</td>\n",
              "      <td>Sun Jul 11 00:57:15 +0000 2021</td>\n",
              "      <td>0.4</td>\n",
              "      <td>0.8</td>\n",
              "      <td>Positive</td>\n",
              "    </tr>\n",
              "  </tbody>\n",
              "</table>\n",
              "<p>258 rows × 6 columns</p>\n",
              "</div>"
            ],
            "text/plain": [
              "     Unnamed: 0  ...  analysis\n",
              "0             0  ...  Positive\n",
              "1             1  ...  Positive\n",
              "2             2  ...   Neutral\n",
              "3             3  ...   Neutral\n",
              "4             4  ...   Neutral\n",
              "..          ...  ...       ...\n",
              "253         253  ...   Neutral\n",
              "254         254  ...   Neutral\n",
              "255         255  ...   Neutral\n",
              "256         256  ...   Neutral\n",
              "257         257  ...  Positive\n",
              "\n",
              "[258 rows x 6 columns]"
            ]
          },
          "metadata": {
            "tags": []
          },
          "execution_count": 2
        }
      ]
    },
    {
      "cell_type": "code",
      "metadata": {
        "colab": {
          "base_uri": "https://localhost:8080/",
          "height": 265
        },
        "id": "1XtsAi6Z3zjT",
        "outputId": "ae80ff06-e512-47c5-9bc0-4344c41f870d"
      },
      "source": [
        "import matplotlib.pyplot as plt\n",
        "\n",
        "counts = tweet_sentiment.groupby('analysis').polarity.count()\n",
        "counts = counts.sort_values(ascending=False)\n",
        "\n",
        "fig = plt.figure(figsize=(6,4))\n",
        "counts.plot.barh(ylim=0).invert_yaxis()"
      ],
      "execution_count": null,
      "outputs": [
        {
          "output_type": "display_data",
          "data": {
            "image/png": "[encoded data removed]",
            "text/plain": [
              "<Figure size 432x288 with 1 Axes>"
            ]
          },
          "metadata": {
            "tags": [],
            "needs_background": "light"
          }
        }
      ]
    },
    {
      "cell_type": "markdown",
      "metadata": {
        "id": "TRZoHmKZ3zjU"
      },
      "source": [
        "### Mengambil data saham sesuai range tweet yang diambil dan dihitung sentimennya."
      ]
    },
    {
      "cell_type": "code",
      "metadata": {
        "id": "sY30nPte3zjZ"
      },
      "source": [
        "## sumber: https://medium.com/@a_dittt/cara-menghitung-return-saham-harian-menggunakan-python-cf6bf61939c5\n",
        "import pandas_datareader as pdr\n",
        "import datetime\n",
        "# ticker = str(input(\"Masukkan Kode Saham? \"))\n",
        "\n",
        "# if not \".JK\" in ticker:\n",
        "#     ticker += \".JK\"\n",
        "#     start = str(input(\"Dari Tanggal? (yyyy-mm-dd) \"))\n",
        "#     end = str(input(\"Sampai Tanggal? (yyyy-mm-dd) \"))\n",
        "#     stockprice = pdr.data.get_data_yahoo(ticker, start, end)\n",
        "#     stockpricelabel = (ticker + \"_\" + \"sampai\" + \"_\" + end)\n",
        "#     stockprice.to_csv(stockpricelabel + \".csv\")"
      ],
      "execution_count": null,
      "outputs": []
    },
    {
      "cell_type": "code",
      "metadata": {
        "colab": {
          "base_uri": "https://localhost:8080/",
          "height": 235
        },
        "id": "zncZmBrd3zja",
        "outputId": "9bf81d40-7b34-4495-d93f-d8c1d58d3700"
      },
      "source": [
        "stock_price = pandas.read_csv('/content/gdrive/MyDrive/BBRI-11-19-c.csv')\n",
        "stock_price"
      ],
      "execution_count": null,
      "outputs": [
        {
          "output_type": "execute_result",
          "data": {
            "text/html": [
              "<div>\n",
              "<style scoped>\n",
              "    .dataframe tbody tr th:only-of-type {\n",
              "        vertical-align: middle;\n",
              "    }\n",
              "\n",
              "    .dataframe tbody tr th {\n",
              "        vertical-align: top;\n",
              "    }\n",
              "\n",
              "    .dataframe thead th {\n",
              "        text-align: right;\n",
              "    }\n",
              "</style>\n",
              "<table border=\"1\" class=\"dataframe\">\n",
              "  <thead>\n",
              "    <tr style=\"text-align: right;\">\n",
              "      <th></th>\n",
              "      <th>Date</th>\n",
              "      <th>Open</th>\n",
              "      <th>High</th>\n",
              "      <th>Low</th>\n",
              "      <th>Close</th>\n",
              "      <th>Adj Close</th>\n",
              "      <th>Volume</th>\n",
              "    </tr>\n",
              "  </thead>\n",
              "  <tbody>\n",
              "    <tr>\n",
              "      <th>0</th>\n",
              "      <td>2021-07-12</td>\n",
              "      <td>3800</td>\n",
              "      <td>3820</td>\n",
              "      <td>3750</td>\n",
              "      <td>3760</td>\n",
              "      <td>3760</td>\n",
              "      <td>119727200</td>\n",
              "    </tr>\n",
              "    <tr>\n",
              "      <th>1</th>\n",
              "      <td>2021-07-13</td>\n",
              "      <td>3800</td>\n",
              "      <td>3800</td>\n",
              "      <td>3760</td>\n",
              "      <td>3780</td>\n",
              "      <td>3780</td>\n",
              "      <td>159709500</td>\n",
              "    </tr>\n",
              "    <tr>\n",
              "      <th>2</th>\n",
              "      <td>2021-07-14</td>\n",
              "      <td>3780</td>\n",
              "      <td>3800</td>\n",
              "      <td>3700</td>\n",
              "      <td>3710</td>\n",
              "      <td>3710</td>\n",
              "      <td>105184100</td>\n",
              "    </tr>\n",
              "    <tr>\n",
              "      <th>3</th>\n",
              "      <td>2021-07-15</td>\n",
              "      <td>3750</td>\n",
              "      <td>3840</td>\n",
              "      <td>3730</td>\n",
              "      <td>3810</td>\n",
              "      <td>3810</td>\n",
              "      <td>127139100</td>\n",
              "    </tr>\n",
              "    <tr>\n",
              "      <th>4</th>\n",
              "      <td>2021-07-16</td>\n",
              "      <td>3850</td>\n",
              "      <td>3860</td>\n",
              "      <td>3810</td>\n",
              "      <td>3840</td>\n",
              "      <td>3840</td>\n",
              "      <td>98486200</td>\n",
              "    </tr>\n",
              "    <tr>\n",
              "      <th>5</th>\n",
              "      <td>2021-07-19</td>\n",
              "      <td>3850</td>\n",
              "      <td>3850</td>\n",
              "      <td>3780</td>\n",
              "      <td>3780</td>\n",
              "      <td>3780</td>\n",
              "      <td>63023000</td>\n",
              "    </tr>\n",
              "  </tbody>\n",
              "</table>\n",
              "</div>"
            ],
            "text/plain": [
              "         Date  Open  High   Low  Close  Adj Close     Volume\n",
              "0  2021-07-12  3800  3820  3750   3760       3760  119727200\n",
              "1  2021-07-13  3800  3800  3760   3780       3780  159709500\n",
              "2  2021-07-14  3780  3800  3700   3710       3710  105184100\n",
              "3  2021-07-15  3750  3840  3730   3810       3810  127139100\n",
              "4  2021-07-16  3850  3860  3810   3840       3840   98486200\n",
              "5  2021-07-19  3850  3850  3780   3780       3780   63023000"
            ]
          },
          "metadata": {
            "tags": []
          },
          "execution_count": 5
        }
      ]
    },
    {
      "cell_type": "code",
      "metadata": {
        "id": "5chpodiS3zjd",
        "colab": {
          "base_uri": "https://localhost:8080/"
        },
        "outputId": "53c3183f-889f-4f52-a2c2-7ec5f76486c7"
      },
      "source": [
        "return_stock = stock_price['Close'].pct_change()\n",
        "print(return_stock)"
      ],
      "execution_count": null,
      "outputs": [
        {
          "output_type": "stream",
          "text": [
            "0         NaN\n",
            "1    0.005319\n",
            "2   -0.018519\n",
            "3    0.026954\n",
            "4    0.007874\n",
            "5   -0.015625\n",
            "Name: Close, dtype: float64\n"
          ],
          "name": "stdout"
        }
      ]
    },
    {
      "cell_type": "code",
      "metadata": {
        "id": "P_emdSsE3zje"
      },
      "source": [
        "return_harian = return_stock.mean()"
      ],
      "execution_count": null,
      "outputs": []
    },
    {
      "cell_type": "code",
      "metadata": {
        "id": "6loZZ8re3zjg",
        "colab": {
          "base_uri": "https://localhost:8080/"
        },
        "outputId": "cb0ab8a8-2c0b-4af2-fd44-9cf9d35c0cb0"
      },
      "source": [
        "print(str(round(return_harian * 100, 2)) + '%')"
      ],
      "execution_count": null,
      "outputs": [
        {
          "output_type": "stream",
          "text": [
            "0.12%\n"
          ],
          "name": "stdout"
        }
      ]
    },
    {
      "cell_type": "code",
      "metadata": {
        "id": "6mI1ZSvB3zjh",
        "colab": {
          "base_uri": "https://localhost:8080/",
          "height": 295
        },
        "outputId": "d803bd5f-27af-4d07-efd2-0d2a844ee12d"
      },
      "source": [
        "import matplotlib.pyplot as plt\n",
        "plt.plot((tweet_sentiment['polarity'].values.tolist()))\n",
        "plt.title('BBRI Tweet Sentiment')\n",
        "plt.ylabel('Sentiment Score')\n",
        "plt.xlabel('Tweet Count')\n",
        "plt.show()"
      ],
      "execution_count": null,
      "outputs": [
        {
          "output_type": "display_data",
          "data": {
            "image/png": "[encoded data removed]",
            "text/plain": [
              "<Figure size 432x288 with 1 Axes>"
            ]
          },
          "metadata": {
            "tags": [],
            "needs_background": "light"
          }
        }
      ]
    },
    {
      "cell_type": "code",
      "metadata": {
        "id": "Y7cNfpXl3zjj"
      },
      "source": [
        "date_list = []\n",
        "\n",
        "date_list.append(tweet_sentiment['date'].tolist())"
      ],
      "execution_count": null,
      "outputs": []
    },
    {
      "cell_type": "code",
      "metadata": {
        "id": "NnMRxIdu3zjl"
      },
      "source": [
        "from datetime import datetime\n",
        "import re\n",
        "import string\n",
        "\n",
        "tweet_date_list = []\n",
        "\n",
        "for i in date_list[0]:\n",
        "    x = str(i)\n",
        "    x = re.sub(r'[+]+', '', x)\n",
        "    x = re.sub(r'\\b(' + ' 0000' + r')\\b', '', x)\n",
        "    x = re.sub(r'\\b([0-9][0-9]:[0-9][0-9]:[0-9][0-9]+' + r' )\\b', '', x)\n",
        "    x = re.sub(r'\\b(' + '^[\\s\\S]{0,4}' + r')\\b', '', x)\n",
        "    x = re.sub(r'\\b(' + 'Jul' + r')\\b', '07', x)\n",
        "    x = re.split(\"\\s\", x)\n",
        "    x = \"-\".join(x)\n",
        "  \n",
        "#     print(x)\n",
        "    tweet_date = datetime.strptime(x, '%m-%d-%Y').strftime('%Y-%m-%d')\n",
        "    tweet_date_list.append(tweet_date)"
      ],
      "execution_count": null,
      "outputs": []
    },
    {
      "cell_type": "code",
      "metadata": {
        "id": "sv05EVhf3zjn",
        "colab": {
          "base_uri": "https://localhost:8080/"
        },
        "outputId": "8215b29a-30e8-403e-d0f0-aca29fbf3770"
      },
      "source": [
        "type(tweet_date_list)"
      ],
      "execution_count": null,
      "outputs": [
        {
          "output_type": "execute_result",
          "data": {
            "text/plain": [
              "list"
            ]
          },
          "metadata": {
            "tags": []
          },
          "execution_count": 33
        }
      ]
    },
    {
      "cell_type": "code",
      "metadata": {
        "id": "JVac_vvQ3zjo",
        "colab": {
          "base_uri": "https://localhost:8080/",
          "height": 419
        },
        "outputId": "8e12e848-6e7c-4bd7-9def-7030327bd74c"
      },
      "source": [
        "my_df = pandas.DataFrame(tweet_date_list)\n",
        "my_df['polarity'] = tweet_sentiment['polarity']\n",
        "my_df.rename(columns={0: 'date'})"
      ],
      "execution_count": null,
      "outputs": [
        {
          "output_type": "execute_result",
          "data": {
            "text/html": [
              "<div>\n",
              "<style scoped>\n",
              "    .dataframe tbody tr th:only-of-type {\n",
              "        vertical-align: middle;\n",
              "    }\n",
              "\n",
              "    .dataframe tbody tr th {\n",
              "        vertical-align: top;\n",
              "    }\n",
              "\n",
              "    .dataframe thead th {\n",
              "        text-align: right;\n",
              "    }\n",
              "</style>\n",
              "<table border=\"1\" class=\"dataframe\">\n",
              "  <thead>\n",
              "    <tr style=\"text-align: right;\">\n",
              "      <th></th>\n",
              "      <th>date</th>\n",
              "      <th>polarity</th>\n",
              "    </tr>\n",
              "  </thead>\n",
              "  <tbody>\n",
              "    <tr>\n",
              "      <th>0</th>\n",
              "      <td>2021-07-19</td>\n",
              "      <td>0.5</td>\n",
              "    </tr>\n",
              "    <tr>\n",
              "      <th>1</th>\n",
              "      <td>2021-07-19</td>\n",
              "      <td>28.863.636.363.636.300</td>\n",
              "    </tr>\n",
              "    <tr>\n",
              "      <th>2</th>\n",
              "      <td>2021-07-19</td>\n",
              "      <td>0.0</td>\n",
              "    </tr>\n",
              "    <tr>\n",
              "      <th>3</th>\n",
              "      <td>2021-07-19</td>\n",
              "      <td>0.0</td>\n",
              "    </tr>\n",
              "    <tr>\n",
              "      <th>4</th>\n",
              "      <td>2021-07-19</td>\n",
              "      <td>0.0</td>\n",
              "    </tr>\n",
              "    <tr>\n",
              "      <th>...</th>\n",
              "      <td>...</td>\n",
              "      <td>...</td>\n",
              "    </tr>\n",
              "    <tr>\n",
              "      <th>253</th>\n",
              "      <td>2021-07-11</td>\n",
              "      <td>0.0</td>\n",
              "    </tr>\n",
              "    <tr>\n",
              "      <th>254</th>\n",
              "      <td>2021-07-11</td>\n",
              "      <td>0.0</td>\n",
              "    </tr>\n",
              "    <tr>\n",
              "      <th>255</th>\n",
              "      <td>2021-07-11</td>\n",
              "      <td>0.0</td>\n",
              "    </tr>\n",
              "    <tr>\n",
              "      <th>256</th>\n",
              "      <td>2021-07-11</td>\n",
              "      <td>0.0</td>\n",
              "    </tr>\n",
              "    <tr>\n",
              "      <th>257</th>\n",
              "      <td>2021-07-11</td>\n",
              "      <td>0.4</td>\n",
              "    </tr>\n",
              "  </tbody>\n",
              "</table>\n",
              "<p>258 rows × 2 columns</p>\n",
              "</div>"
            ],
            "text/plain": [
              "           date                polarity\n",
              "0    2021-07-19                     0.5\n",
              "1    2021-07-19  28.863.636.363.636.300\n",
              "2    2021-07-19                     0.0\n",
              "3    2021-07-19                     0.0\n",
              "4    2021-07-19                     0.0\n",
              "..          ...                     ...\n",
              "253  2021-07-11                     0.0\n",
              "254  2021-07-11                     0.0\n",
              "255  2021-07-11                     0.0\n",
              "256  2021-07-11                     0.0\n",
              "257  2021-07-11                     0.4\n",
              "\n",
              "[258 rows x 2 columns]"
            ]
          },
          "metadata": {
            "tags": []
          },
          "execution_count": 34
        }
      ]
    },
    {
      "cell_type": "code",
      "metadata": {
        "id": "Br0i_mm33zjp",
        "colab": {
          "base_uri": "https://localhost:8080/",
          "height": 375
        },
        "outputId": "1d2ecfa1-983d-4821-9004-68ee5416bfb6"
      },
      "source": [
        "grouped_df = my_df.groupby(my_df[0])\n",
        "\n",
        "mean_df = grouped_df.mean()\n",
        "\n",
        "mean_df = mean_df.reset_index()\n",
        "mean_df\n",
        "mean_df.rename(columns={0: 'date'})"
      ],
      "execution_count": null,
      "outputs": [
        {
          "output_type": "error",
          "ename": "DataError",
          "evalue": "ignored",
          "traceback": [
            "\u001b[0;31m---------------------------------------------------------------------------\u001b[0m",
            "\u001b[0;31mDataError\u001b[0m                                 Traceback (most recent call last)",
            "\u001b[0;32m<ipython-input-40-5e808e185d3d>\u001b[0m in \u001b[0;36m<module>\u001b[0;34m()\u001b[0m\n\u001b[1;32m      1\u001b[0m \u001b[0mgrouped_df\u001b[0m \u001b[0;34m=\u001b[0m \u001b[0mmy_df\u001b[0m\u001b[0;34m.\u001b[0m\u001b[0mgroupby\u001b[0m\u001b[0;34m(\u001b[0m\u001b[0mmy_df\u001b[0m\u001b[0;34m[\u001b[0m\u001b[0;36m0\u001b[0m\u001b[0;34m]\u001b[0m\u001b[0;34m)\u001b[0m\u001b[0;34m\u001b[0m\u001b[0;34m\u001b[0m\u001b[0m\n\u001b[1;32m      2\u001b[0m \u001b[0;34m\u001b[0m\u001b[0m\n\u001b[0;32m----> 3\u001b[0;31m \u001b[0mmean_df\u001b[0m \u001b[0;34m=\u001b[0m \u001b[0mgrouped_df\u001b[0m\u001b[0;34m.\u001b[0m\u001b[0mmean\u001b[0m\u001b[0;34m(\u001b[0m\u001b[0;34m)\u001b[0m\u001b[0;34m\u001b[0m\u001b[0;34m\u001b[0m\u001b[0m\n\u001b[0m\u001b[1;32m      4\u001b[0m \u001b[0;34m\u001b[0m\u001b[0m\n\u001b[1;32m      5\u001b[0m \u001b[0mmean_df\u001b[0m \u001b[0;34m=\u001b[0m \u001b[0mmean_df\u001b[0m\u001b[0;34m.\u001b[0m\u001b[0mreset_index\u001b[0m\u001b[0;34m(\u001b[0m\u001b[0;34m)\u001b[0m\u001b[0;34m\u001b[0m\u001b[0;34m\u001b[0m\u001b[0m\n",
            "\u001b[0;32m/usr/local/lib/python3.7/dist-packages/pandas/core/groupby/groupby.py\u001b[0m in \u001b[0;36mmean\u001b[0;34m(self, numeric_only)\u001b[0m\n\u001b[1;32m   1396\u001b[0m             \u001b[0;34m\"mean\"\u001b[0m\u001b[0;34m,\u001b[0m\u001b[0;34m\u001b[0m\u001b[0;34m\u001b[0m\u001b[0m\n\u001b[1;32m   1397\u001b[0m             \u001b[0malt\u001b[0m\u001b[0;34m=\u001b[0m\u001b[0;32mlambda\u001b[0m \u001b[0mx\u001b[0m\u001b[0;34m,\u001b[0m \u001b[0maxis\u001b[0m\u001b[0;34m:\u001b[0m \u001b[0mSeries\u001b[0m\u001b[0;34m(\u001b[0m\u001b[0mx\u001b[0m\u001b[0;34m)\u001b[0m\u001b[0;34m.\u001b[0m\u001b[0mmean\u001b[0m\u001b[0;34m(\u001b[0m\u001b[0mnumeric_only\u001b[0m\u001b[0;34m=\u001b[0m\u001b[0mnumeric_only\u001b[0m\u001b[0;34m)\u001b[0m\u001b[0;34m,\u001b[0m\u001b[0;34m\u001b[0m\u001b[0;34m\u001b[0m\u001b[0m\n\u001b[0;32m-> 1398\u001b[0;31m             \u001b[0mnumeric_only\u001b[0m\u001b[0;34m=\u001b[0m\u001b[0mnumeric_only\u001b[0m\u001b[0;34m,\u001b[0m\u001b[0;34m\u001b[0m\u001b[0;34m\u001b[0m\u001b[0m\n\u001b[0m\u001b[1;32m   1399\u001b[0m         )\n\u001b[1;32m   1400\u001b[0m \u001b[0;34m\u001b[0m\u001b[0m\n",
            "\u001b[0;32m/usr/local/lib/python3.7/dist-packages/pandas/core/groupby/generic.py\u001b[0m in \u001b[0;36m_cython_agg_general\u001b[0;34m(self, how, alt, numeric_only, min_count)\u001b[0m\n\u001b[1;32m   1020\u001b[0m     ) -> DataFrame:\n\u001b[1;32m   1021\u001b[0m         agg_blocks, agg_items = self._cython_agg_blocks(\n\u001b[0;32m-> 1022\u001b[0;31m             \u001b[0mhow\u001b[0m\u001b[0;34m,\u001b[0m \u001b[0malt\u001b[0m\u001b[0;34m=\u001b[0m\u001b[0malt\u001b[0m\u001b[0;34m,\u001b[0m \u001b[0mnumeric_only\u001b[0m\u001b[0;34m=\u001b[0m\u001b[0mnumeric_only\u001b[0m\u001b[0;34m,\u001b[0m \u001b[0mmin_count\u001b[0m\u001b[0;34m=\u001b[0m\u001b[0mmin_count\u001b[0m\u001b[0;34m\u001b[0m\u001b[0;34m\u001b[0m\u001b[0m\n\u001b[0m\u001b[1;32m   1023\u001b[0m         )\n\u001b[1;32m   1024\u001b[0m         \u001b[0;32mreturn\u001b[0m \u001b[0mself\u001b[0m\u001b[0;34m.\u001b[0m\u001b[0m_wrap_agged_blocks\u001b[0m\u001b[0;34m(\u001b[0m\u001b[0magg_blocks\u001b[0m\u001b[0;34m,\u001b[0m \u001b[0mitems\u001b[0m\u001b[0;34m=\u001b[0m\u001b[0magg_items\u001b[0m\u001b[0;34m)\u001b[0m\u001b[0;34m\u001b[0m\u001b[0;34m\u001b[0m\u001b[0m\n",
            "\u001b[0;32m/usr/local/lib/python3.7/dist-packages/pandas/core/groupby/generic.py\u001b[0m in \u001b[0;36m_cython_agg_blocks\u001b[0;34m(self, how, alt, numeric_only, min_count)\u001b[0m\n\u001b[1;32m   1128\u001b[0m \u001b[0;34m\u001b[0m\u001b[0m\n\u001b[1;32m   1129\u001b[0m         \u001b[0;32mif\u001b[0m \u001b[0;32mnot\u001b[0m \u001b[0;34m(\u001b[0m\u001b[0magg_blocks\u001b[0m \u001b[0;32mor\u001b[0m \u001b[0msplit_frames\u001b[0m\u001b[0;34m)\u001b[0m\u001b[0;34m:\u001b[0m\u001b[0;34m\u001b[0m\u001b[0;34m\u001b[0m\u001b[0m\n\u001b[0;32m-> 1130\u001b[0;31m             \u001b[0;32mraise\u001b[0m \u001b[0mDataError\u001b[0m\u001b[0;34m(\u001b[0m\u001b[0;34m\"No numeric types to aggregate\"\u001b[0m\u001b[0;34m)\u001b[0m\u001b[0;34m\u001b[0m\u001b[0;34m\u001b[0m\u001b[0m\n\u001b[0m\u001b[1;32m   1131\u001b[0m \u001b[0;34m\u001b[0m\u001b[0m\n\u001b[1;32m   1132\u001b[0m         \u001b[0;32mif\u001b[0m \u001b[0msplit_items\u001b[0m\u001b[0;34m:\u001b[0m\u001b[0;34m\u001b[0m\u001b[0;34m\u001b[0m\u001b[0m\n",
            "\u001b[0;31mDataError\u001b[0m: No numeric types to aggregate"
          ]
        }
      ]
    },
    {
      "cell_type": "code",
      "metadata": {
        "id": "P50LU9v13zjq",
        "colab": {
          "base_uri": "https://localhost:8080/",
          "height": 295
        },
        "outputId": "e122c62e-cfc6-4f08-9190-25ec092e7c6c"
      },
      "source": [
        "plt.plot(stock_price['Date'], (stock_price['Close'].values.tolist()))\n",
        "plt.title('BBRI Stock Price')\n",
        "plt.ylabel('Stock Price')\n",
        "plt.xlabel('Day')\n",
        "plt.show()"
      ],
      "execution_count": null,
      "outputs": [
        {
          "output_type": "display_data",
          "data": {
            "image/png": "[encoded data removed]",
            "text/plain": [
              "<Figure size 432x288 with 1 Axes>"
            ]
          },
          "metadata": {
            "tags": [],
            "needs_background": "light"
          }
        }
      ]
    },
    {
      "cell_type": "code",
      "metadata": {
        "id": "Qpr1Sa-g3zjt",
        "colab": {
          "base_uri": "https://localhost:8080/",
          "height": 232
        },
        "outputId": "69846cb3-099f-49bb-b01a-cf52d8366bb8"
      },
      "source": [
        "plt.plot(mean_df[0].values.tolist(), (mean_df['polarity'].values.tolist()))\n",
        "plt.title('BBRI Tweet Sentiment')\n",
        "plt.ylabel('Polarity')\n",
        "plt.xlabel('Day')\n",
        "plt.show()"
      ],
      "execution_count": null,
      "outputs": [
        {
          "output_type": "error",
          "ename": "NameError",
          "evalue": "ignored",
          "traceback": [
            "\u001b[0;31m---------------------------------------------------------------------------\u001b[0m",
            "\u001b[0;31mNameError\u001b[0m                                 Traceback (most recent call last)",
            "\u001b[0;32m<ipython-input-37-9fa5e309198e>\u001b[0m in \u001b[0;36m<module>\u001b[0;34m()\u001b[0m\n\u001b[0;32m----> 1\u001b[0;31m \u001b[0mplt\u001b[0m\u001b[0;34m.\u001b[0m\u001b[0mplot\u001b[0m\u001b[0;34m(\u001b[0m\u001b[0mmean_df\u001b[0m\u001b[0;34m[\u001b[0m\u001b[0;36m0\u001b[0m\u001b[0;34m]\u001b[0m\u001b[0;34m.\u001b[0m\u001b[0mvalues\u001b[0m\u001b[0;34m.\u001b[0m\u001b[0mtolist\u001b[0m\u001b[0;34m(\u001b[0m\u001b[0;34m)\u001b[0m\u001b[0;34m,\u001b[0m \u001b[0;34m(\u001b[0m\u001b[0mmean_df\u001b[0m\u001b[0;34m[\u001b[0m\u001b[0;34m'polarity'\u001b[0m\u001b[0;34m]\u001b[0m\u001b[0;34m.\u001b[0m\u001b[0mvalues\u001b[0m\u001b[0;34m.\u001b[0m\u001b[0mtolist\u001b[0m\u001b[0;34m(\u001b[0m\u001b[0;34m)\u001b[0m\u001b[0;34m)\u001b[0m\u001b[0;34m)\u001b[0m\u001b[0;34m\u001b[0m\u001b[0;34m\u001b[0m\u001b[0m\n\u001b[0m\u001b[1;32m      2\u001b[0m \u001b[0mplt\u001b[0m\u001b[0;34m.\u001b[0m\u001b[0mtitle\u001b[0m\u001b[0;34m(\u001b[0m\u001b[0;34m'BBRI Tweet Sentiment'\u001b[0m\u001b[0;34m)\u001b[0m\u001b[0;34m\u001b[0m\u001b[0;34m\u001b[0m\u001b[0m\n\u001b[1;32m      3\u001b[0m \u001b[0mplt\u001b[0m\u001b[0;34m.\u001b[0m\u001b[0mylabel\u001b[0m\u001b[0;34m(\u001b[0m\u001b[0;34m'Polarity'\u001b[0m\u001b[0;34m)\u001b[0m\u001b[0;34m\u001b[0m\u001b[0;34m\u001b[0m\u001b[0m\n\u001b[1;32m      4\u001b[0m \u001b[0mplt\u001b[0m\u001b[0;34m.\u001b[0m\u001b[0mxlabel\u001b[0m\u001b[0;34m(\u001b[0m\u001b[0;34m'Day'\u001b[0m\u001b[0;34m)\u001b[0m\u001b[0;34m\u001b[0m\u001b[0;34m\u001b[0m\u001b[0m\n\u001b[1;32m      5\u001b[0m \u001b[0mplt\u001b[0m\u001b[0;34m.\u001b[0m\u001b[0mshow\u001b[0m\u001b[0;34m(\u001b[0m\u001b[0;34m)\u001b[0m\u001b[0;34m\u001b[0m\u001b[0;34m\u001b[0m\u001b[0m\n",
            "\u001b[0;31mNameError\u001b[0m: name 'mean_df' is not defined"
          ]
        }
      ]
    },
    {
      "cell_type": "code",
      "metadata": {
        "id": "m0Ng3jdU3zjv"
      },
      "source": [
        "corr = pandas.merge(\n",
        "    mean_df,\n",
        "    stock_price,\n",
        "    left_on=[0],\n",
        "    right_on=['Date']\n",
        ")"
      ],
      "execution_count": null,
      "outputs": []
    },
    {
      "cell_type": "code",
      "metadata": {
        "id": "k6WsWInL3zjw",
        "colab": {
          "base_uri": "https://localhost:8080/",
          "height": 235
        },
        "outputId": "92c3ed6f-9697-4016-f91d-57456df1882c"
      },
      "source": [
        "corr_new = corr.drop(columns=[0, 'High', 'Low', 'Open', 'Volume', 'Adj Close'])\n",
        "corr_new.columns = ['Polarity', 'Date', 'Close']\n",
        "corr_new"
      ],
      "execution_count": null,
      "outputs": [
        {
          "output_type": "execute_result",
          "data": {
            "text/html": [
              "<div>\n",
              "<style scoped>\n",
              "    .dataframe tbody tr th:only-of-type {\n",
              "        vertical-align: middle;\n",
              "    }\n",
              "\n",
              "    .dataframe tbody tr th {\n",
              "        vertical-align: top;\n",
              "    }\n",
              "\n",
              "    .dataframe thead th {\n",
              "        text-align: right;\n",
              "    }\n",
              "</style>\n",
              "<table border=\"1\" class=\"dataframe\">\n",
              "  <thead>\n",
              "    <tr style=\"text-align: right;\">\n",
              "      <th></th>\n",
              "      <th>Polarity</th>\n",
              "      <th>Date</th>\n",
              "      <th>Close</th>\n",
              "    </tr>\n",
              "  </thead>\n",
              "  <tbody>\n",
              "    <tr>\n",
              "      <th>0</th>\n",
              "      <td>0.057201</td>\n",
              "      <td>2021-07-12</td>\n",
              "      <td>3760</td>\n",
              "    </tr>\n",
              "    <tr>\n",
              "      <th>1</th>\n",
              "      <td>0.008535</td>\n",
              "      <td>2021-07-13</td>\n",
              "      <td>3780</td>\n",
              "    </tr>\n",
              "    <tr>\n",
              "      <th>2</th>\n",
              "      <td>0.033740</td>\n",
              "      <td>2021-07-14</td>\n",
              "      <td>3710</td>\n",
              "    </tr>\n",
              "    <tr>\n",
              "      <th>3</th>\n",
              "      <td>0.059076</td>\n",
              "      <td>2021-07-15</td>\n",
              "      <td>3810</td>\n",
              "    </tr>\n",
              "    <tr>\n",
              "      <th>4</th>\n",
              "      <td>0.052966</td>\n",
              "      <td>2021-07-16</td>\n",
              "      <td>3840</td>\n",
              "    </tr>\n",
              "    <tr>\n",
              "      <th>5</th>\n",
              "      <td>0.153521</td>\n",
              "      <td>2021-07-19</td>\n",
              "      <td>3780</td>\n",
              "    </tr>\n",
              "  </tbody>\n",
              "</table>\n",
              "</div>"
            ],
            "text/plain": [
              "   Polarity        Date  Close\n",
              "0  0.057201  2021-07-12   3760\n",
              "1  0.008535  2021-07-13   3780\n",
              "2  0.033740  2021-07-14   3710\n",
              "3  0.059076  2021-07-15   3810\n",
              "4  0.052966  2021-07-16   3840\n",
              "5  0.153521  2021-07-19   3780"
            ]
          },
          "metadata": {
            "tags": []
          },
          "execution_count": 78
        }
      ]
    },
    {
      "cell_type": "code",
      "metadata": {
        "id": "7_LmMJHr3zjx",
        "colab": {
          "base_uri": "https://localhost:8080/",
          "height": 111
        },
        "outputId": "47bab10f-5503-4ac4-aef2-e991cf2603db"
      },
      "source": [
        "kendalcorr = corr_new.corr(method='kendall')\n",
        "kendalcorr"
      ],
      "execution_count": null,
      "outputs": [
        {
          "output_type": "execute_result",
          "data": {
            "text/html": [
              "<div>\n",
              "<style scoped>\n",
              "    .dataframe tbody tr th:only-of-type {\n",
              "        vertical-align: middle;\n",
              "    }\n",
              "\n",
              "    .dataframe tbody tr th {\n",
              "        vertical-align: top;\n",
              "    }\n",
              "\n",
              "    .dataframe thead th {\n",
              "        text-align: right;\n",
              "    }\n",
              "</style>\n",
              "<table border=\"1\" class=\"dataframe\">\n",
              "  <thead>\n",
              "    <tr style=\"text-align: right;\">\n",
              "      <th></th>\n",
              "      <th>Polarity</th>\n",
              "      <th>Close</th>\n",
              "    </tr>\n",
              "  </thead>\n",
              "  <tbody>\n",
              "    <tr>\n",
              "      <th>Polarity</th>\n",
              "      <td>1.000000</td>\n",
              "      <td>0.138013</td>\n",
              "    </tr>\n",
              "    <tr>\n",
              "      <th>Close</th>\n",
              "      <td>0.138013</td>\n",
              "      <td>1.000000</td>\n",
              "    </tr>\n",
              "  </tbody>\n",
              "</table>\n",
              "</div>"
            ],
            "text/plain": [
              "          Polarity     Close\n",
              "Polarity  1.000000  0.138013\n",
              "Close     0.138013  1.000000"
            ]
          },
          "metadata": {
            "tags": []
          },
          "execution_count": 79
        }
      ]
    },
    {
      "cell_type": "code",
      "metadata": {
        "id": "lR6yQWui3zjx",
        "colab": {
          "base_uri": "https://localhost:8080/",
          "height": 350
        },
        "outputId": "df658f45-60cf-41fa-f22a-46e3830da1d6"
      },
      "source": [
        "plt.figure(figsize=(8,5))\n",
        "x1 = corr_new['Date']\n",
        "y1 = corr_new['Polarity']*10000\n",
        "plt.plot(x1, y1, label = \"Sentiment Score\")\n",
        "x2 = corr_new['Date']\n",
        "y2 = corr_new['Close']\n",
        "plt.plot(x2, y2, label = \"Stock Price\")\n",
        "plt.xlabel('Date')\n",
        "plt.ylabel('Score/Price')\n",
        "plt.title('Perbandingan Sentiment Score dan Stock Price BBRI')\n",
        "plt.legend()\n",
        "plt.show()"
      ],
      "execution_count": null,
      "outputs": [
        {
          "output_type": "display_data",
          "data": {
            "image/png": "[encoded data removed]",
            "text/plain": [
              "<Figure size 576x360 with 1 Axes>"
            ]
          },
          "metadata": {
            "tags": [],
            "needs_background": "light"
          }
        }
      ]
    },
    {
      "cell_type": "markdown",
      "metadata": {
        "id": "tvCkFn-i3zjz"
      },
      "source": [
        "# Berdasarkan korelasi metode Kendall, harga saham tidak memiliki asosiasi yang kuat dengan nilai rata-rata sentimen tweet di Twitter"
      ]
    },
    {
      "cell_type": "markdown",
      "metadata": {
        "id": "OJ_eUjni3zj0"
      },
      "source": [
        "### Cross Validation\n",
        "sumber: https://www.kaggle.com/babbler/cross-validation-considerations"
      ]
    },
    {
      "cell_type": "markdown",
      "metadata": {
        "id": "B9xraKSD3zj0"
      },
      "source": [
        "##### K-fold Cross Validation"
      ]
    },
    {
      "cell_type": "code",
      "metadata": {
        "id": "lgqZHznb3zj2",
        "colab": {
          "base_uri": "https://localhost:8080/"
        },
        "outputId": "560eae72-66b3-423f-eb43-70cee0c83142"
      },
      "source": [
        "#sumber: https://www.kaggle.com/babbler/cross-validation-considerations\n",
        "print(\"Sentiment Count:\", tweet_sentiment['polarity'].size)\n",
        "print(\"Sentiment Distribution:\", tweet_sentiment['polarity'].value_counts(normalize=True), sep='\\n')"
      ],
      "execution_count": null,
      "outputs": [
        {
          "output_type": "stream",
          "text": [
            "Sentiment Count: 258\n",
            "Sentiment Distribution:\n",
            " 0.000000    0.534884\n",
            "-0.125000    0.031008\n",
            " 0.500000    0.027132\n",
            "-0.062500    0.023256\n",
            "-0.155556    0.019380\n",
            "               ...   \n",
            " 0.364646    0.003876\n",
            "-0.140278    0.003876\n",
            "-0.350000    0.003876\n",
            " 0.177778    0.003876\n",
            "-0.352778    0.003876\n",
            "Name: polarity, Length: 71, dtype: float64\n"
          ],
          "name": "stdout"
        }
      ]
    },
    {
      "cell_type": "code",
      "metadata": {
        "id": "hF6m_jWg3zj3",
        "colab": {
          "base_uri": "https://localhost:8080/"
        },
        "outputId": "747dff4e-90af-4379-8c2c-e527f178474b"
      },
      "source": [
        "from sklearn.model_selection import StratifiedKFold\n",
        "\n",
        "skf = StratifiedKFold(n_splits=5, shuffle=True, random_state=1)\n",
        "for f, split in enumerate(skf.split(tweet_sentiment, tweet_sentiment['analysis'])):\n",
        "    print(\"Fold\", f + 1, \"-----\")\n",
        "    test = tweet_sentiment.iloc[split[1]]\n",
        "    print(\"Size:\", test.size)\n",
        "    print(\"Sentiment Distribution:\", tweet_sentiment['polarity'].value_counts(normalize=True), \"\", sep='\\n')"
      ],
      "execution_count": null,
      "outputs": [
        {
          "output_type": "stream",
          "text": [
            "Fold 1 -----\n",
            "Size: 312\n",
            "Sentiment Distribution:\n",
            " 0.000000    0.534884\n",
            "-0.125000    0.031008\n",
            " 0.500000    0.027132\n",
            "-0.062500    0.023256\n",
            "-0.155556    0.019380\n",
            "               ...   \n",
            " 0.364646    0.003876\n",
            "-0.140278    0.003876\n",
            "-0.350000    0.003876\n",
            " 0.177778    0.003876\n",
            "-0.352778    0.003876\n",
            "Name: polarity, Length: 71, dtype: float64\n",
            "\n",
            "Fold 2 -----\n",
            "Size: 312\n",
            "Sentiment Distribution:\n",
            " 0.000000    0.534884\n",
            "-0.125000    0.031008\n",
            " 0.500000    0.027132\n",
            "-0.062500    0.023256\n",
            "-0.155556    0.019380\n",
            "               ...   \n",
            " 0.364646    0.003876\n",
            "-0.140278    0.003876\n",
            "-0.350000    0.003876\n",
            " 0.177778    0.003876\n",
            "-0.352778    0.003876\n",
            "Name: polarity, Length: 71, dtype: float64\n",
            "\n",
            "Fold 3 -----\n",
            "Size: 312\n",
            "Sentiment Distribution:\n",
            " 0.000000    0.534884\n",
            "-0.125000    0.031008\n",
            " 0.500000    0.027132\n",
            "-0.062500    0.023256\n",
            "-0.155556    0.019380\n",
            "               ...   \n",
            " 0.364646    0.003876\n",
            "-0.140278    0.003876\n",
            "-0.350000    0.003876\n",
            " 0.177778    0.003876\n",
            "-0.352778    0.003876\n",
            "Name: polarity, Length: 71, dtype: float64\n",
            "\n",
            "Fold 4 -----\n",
            "Size: 306\n",
            "Sentiment Distribution:\n",
            " 0.000000    0.534884\n",
            "-0.125000    0.031008\n",
            " 0.500000    0.027132\n",
            "-0.062500    0.023256\n",
            "-0.155556    0.019380\n",
            "               ...   \n",
            " 0.364646    0.003876\n",
            "-0.140278    0.003876\n",
            "-0.350000    0.003876\n",
            " 0.177778    0.003876\n",
            "-0.352778    0.003876\n",
            "Name: polarity, Length: 71, dtype: float64\n",
            "\n",
            "Fold 5 -----\n",
            "Size: 306\n",
            "Sentiment Distribution:\n",
            " 0.000000    0.534884\n",
            "-0.125000    0.031008\n",
            " 0.500000    0.027132\n",
            "-0.062500    0.023256\n",
            "-0.155556    0.019380\n",
            "               ...   \n",
            " 0.364646    0.003876\n",
            "-0.140278    0.003876\n",
            "-0.350000    0.003876\n",
            " 0.177778    0.003876\n",
            "-0.352778    0.003876\n",
            "Name: polarity, Length: 71, dtype: float64\n",
            "\n"
          ],
          "name": "stdout"
        }
      ]
    },
    {
      "cell_type": "code",
      "metadata": {
        "id": "2S5hyY973zj5",
        "colab": {
          "base_uri": "https://localhost:8080/"
        },
        "outputId": "83e51a4f-4750-411c-eb9a-8c71d9ea892f"
      },
      "source": [
        "Id = \"Positive\"\n",
        "\n",
        "print(\"Analysis\", Id, \"Sentiment Counts:\\n\")\n",
        "for f, split in enumerate(skf.split(tweet_sentiment, tweet_sentiment['analysis'])):\n",
        "    print(\"Fold \", f + 1, \":\", sep='')\n",
        "    test = tweet_sentiment['analysis'].iloc[split[1]]\n",
        "    if Id in test.values:\n",
        "        print(test[test == Id].value_counts(sort=False), \"\\n\")\n",
        "    else:\n",
        "        print(\"None\\n\")\n",
        "    \n",
        "    # use this later\n",
        "    if f == 0:\n",
        "        split1 = split"
      ],
      "execution_count": null,
      "outputs": [
        {
          "output_type": "stream",
          "text": [
            "Analysis Positive Sentiment Counts:\n",
            "\n",
            "Fold 1:\n",
            "Positive    15\n",
            "Name: analysis, dtype: int64 \n",
            "\n",
            "Fold 2:\n",
            "Positive    14\n",
            "Name: analysis, dtype: int64 \n",
            "\n",
            "Fold 3:\n",
            "Positive    14\n",
            "Name: analysis, dtype: int64 \n",
            "\n",
            "Fold 4:\n",
            "Positive    14\n",
            "Name: analysis, dtype: int64 \n",
            "\n",
            "Fold 5:\n",
            "Positive    14\n",
            "Name: analysis, dtype: int64 \n",
            "\n"
          ],
          "name": "stdout"
        }
      ]
    },
    {
      "cell_type": "code",
      "metadata": {
        "scrolled": true,
        "id": "9b26Vc7M3zj7",
        "colab": {
          "base_uri": "https://localhost:8080/",
          "height": 1000
        },
        "outputId": "8cb811de-f8dc-43ff-e5dc-38fbeea53b4b"
      },
      "source": [
        "train = tweet_sentiment.iloc[split1[0]]\n",
        "test = tweet_sentiment.iloc[split1[1]]\n",
        "\n",
        "print(\"Train -----\\nAnalysis =\", Id, \"Counts:\")\n",
        "print(train['analysis'][train['analysis'] == Id].value_counts(sort=False))\n",
        "display(train['analysis'][(train['analysis'] == Id)])\n",
        "\n",
        "print(\"Test -----\\nAnalysis =\", Id, \"Counts:\")\n",
        "print(test['analysis'][test['analysis'] == Id].value_counts(sort=False))\n",
        "display(test['analysis'][(test['analysis'] == Id)])"
      ],
      "execution_count": null,
      "outputs": [
        {
          "output_type": "stream",
          "text": [
            "Train -----\n",
            "Analysis = Positive Counts:\n",
            "Positive    56\n",
            "Name: analysis, dtype: int64\n"
          ],
          "name": "stdout"
        },
        {
          "output_type": "display_data",
          "data": {
            "text/plain": [
              "0      Positive\n",
              "1      Positive\n",
              "6      Positive\n",
              "10     Positive\n",
              "11     Positive\n",
              "15     Positive\n",
              "27     Positive\n",
              "29     Positive\n",
              "30     Positive\n",
              "31     Positive\n",
              "46     Positive\n",
              "50     Positive\n",
              "51     Positive\n",
              "52     Positive\n",
              "53     Positive\n",
              "54     Positive\n",
              "57     Positive\n",
              "60     Positive\n",
              "65     Positive\n",
              "67     Positive\n",
              "70     Positive\n",
              "74     Positive\n",
              "76     Positive\n",
              "83     Positive\n",
              "87     Positive\n",
              "88     Positive\n",
              "91     Positive\n",
              "99     Positive\n",
              "101    Positive\n",
              "102    Positive\n",
              "108    Positive\n",
              "122    Positive\n",
              "125    Positive\n",
              "130    Positive\n",
              "134    Positive\n",
              "136    Positive\n",
              "139    Positive\n",
              "140    Positive\n",
              "141    Positive\n",
              "142    Positive\n",
              "146    Positive\n",
              "167    Positive\n",
              "177    Positive\n",
              "180    Positive\n",
              "192    Positive\n",
              "200    Positive\n",
              "202    Positive\n",
              "207    Positive\n",
              "214    Positive\n",
              "216    Positive\n",
              "225    Positive\n",
              "227    Positive\n",
              "234    Positive\n",
              "239    Positive\n",
              "243    Positive\n",
              "257    Positive\n",
              "Name: analysis, dtype: object"
            ]
          },
          "metadata": {
            "tags": []
          }
        },
        {
          "output_type": "stream",
          "text": [
            "Test -----\n",
            "Analysis = Positive Counts:\n",
            "Positive    15\n",
            "Name: analysis, dtype: int64\n"
          ],
          "name": "stdout"
        },
        {
          "output_type": "display_data",
          "data": {
            "text/plain": [
              "45     Positive\n",
              "79     Positive\n",
              "90     Positive\n",
              "104    Positive\n",
              "112    Positive\n",
              "135    Positive\n",
              "158    Positive\n",
              "165    Positive\n",
              "181    Positive\n",
              "224    Positive\n",
              "228    Positive\n",
              "237    Positive\n",
              "244    Positive\n",
              "247    Positive\n",
              "250    Positive\n",
              "Name: analysis, dtype: object"
            ]
          },
          "metadata": {
            "tags": []
          }
        }
      ]
    },
    {
      "cell_type": "markdown",
      "metadata": {
        "id": "q6kbe0aZ3zj8"
      },
      "source": [
        "##### Group K-fold Cross Validation"
      ]
    },
    {
      "cell_type": "code",
      "metadata": {
        "id": "6Q3RSPDh3zj8",
        "colab": {
          "base_uri": "https://localhost:8080/"
        },
        "outputId": "693a1afa-a24c-46e9-aca9-c208098a3ada"
      },
      "source": [
        "from sklearn.model_selection import GroupKFold\n",
        "\n",
        "gkf = GroupKFold(n_splits=3)\n",
        "print(\"Analysis\", Id, \"Sentiment Counts:\\n\")\n",
        "for f, split in enumerate(gkf.split(tweet_sentiment, groups=tweet_sentiment['analysis'])):\n",
        "    print(\"Fold \", f + 1, \":\", sep='')\n",
        "    test = tweet_sentiment['analysis'].iloc[split[1]]\n",
        "    if Id in test.values:\n",
        "        print(test[test == Id].value_counts(sort=False), \"\\n\")\n",
        "    else:\n",
        "        print(\"None\\n\")"
      ],
      "execution_count": null,
      "outputs": [
        {
          "output_type": "stream",
          "text": [
            "Analysis Positive Sentiment Counts:\n",
            "\n",
            "Fold 1:\n",
            "None\n",
            "\n",
            "Fold 2:\n",
            "Positive    71\n",
            "Name: analysis, dtype: int64 \n",
            "\n",
            "Fold 3:\n",
            "None\n",
            "\n"
          ],
          "name": "stdout"
        }
      ]
    },
    {
      "cell_type": "code",
      "metadata": {
        "scrolled": true,
        "id": "hy5YiS9l3zj9",
        "colab": {
          "base_uri": "https://localhost:8080/"
        },
        "outputId": "9e672aaf-1e08-47b1-fccc-bfdc834d9b1e"
      },
      "source": [
        "for f, split in enumerate(gkf.split(tweet_sentiment, groups=tweet_sentiment['analysis'])):\n",
        "    print(\"Fold\", f + 1, \"-----\")\n",
        "    test = tweet_sentiment['analysis'].iloc[split[1]]\n",
        "    print(\"Size:\", test.size)\n",
        "    print(\"Sentiment Distribution:\", test.value_counts(normalize=True), \"\", sep='\\n')"
      ],
      "execution_count": null,
      "outputs": [
        {
          "output_type": "stream",
          "text": [
            "Fold 1 -----\n",
            "Size: 138\n",
            "Sentiment Distribution:\n",
            "Neutral    1.0\n",
            "Name: analysis, dtype: float64\n",
            "\n",
            "Fold 2 -----\n",
            "Size: 71\n",
            "Sentiment Distribution:\n",
            "Positive    1.0\n",
            "Name: analysis, dtype: float64\n",
            "\n",
            "Fold 3 -----\n",
            "Size: 49\n",
            "Sentiment Distribution:\n",
            "Negative    1.0\n",
            "Name: analysis, dtype: float64\n",
            "\n"
          ],
          "name": "stdout"
        }
      ]
    },
    {
      "cell_type": "code",
      "metadata": {
        "id": "xOpUZCn03zj9",
        "colab": {
          "base_uri": "https://localhost:8080/"
        },
        "outputId": "e60dbe00-4d40-47d3-a730-2e57552b0d92"
      },
      "source": [
        "import nltk\n",
        "import numpy as np\n",
        "\n",
        "from sklearn.feature_extraction.text import TfidfVectorizer\n",
        "from sklearn.linear_model import LogisticRegression\n",
        "from sklearn.model_selection import GridSearchCV\n",
        "from sklearn.pipeline import Pipeline\n",
        "\n",
        "pipeline = Pipeline([\n",
        "    ('tfidf',  TfidfVectorizer()),\n",
        "    ('lr', LogisticRegression())\n",
        "])\n",
        "\n",
        "analyzer = TfidfVectorizer().build_analyzer()\n",
        "stemmer = nltk.stem.SnowballStemmer('english')\n",
        "\n",
        "pipeline.set_params(\n",
        "    tfidf__analyzer=lambda x: (stemmer.stem(w) for w in analyzer(x)),\n",
        "    tfidf__ngram_range=(1,2),\n",
        "    lr__solver='sag',\n",
        "    lr__multi_class='multinomial',\n",
        "    lr__penalty='l2', \n",
        "    lr__tol=0.001, \n",
        "    lr__verbose=False)\n",
        "\n",
        "param_grid = {\n",
        "    'lr__C': np.linspace(1, 3, 11) # I think the value is close to 2 based on previous testing, and want to reduce runtime\n",
        "}\n",
        "\n",
        "gs = GridSearchCV(\n",
        "    pipeline, \n",
        "    param_grid=param_grid,\n",
        "    cv=gkf,\n",
        "    verbose=1,\n",
        "    return_train_score=False)\n",
        "\n",
        "gs.fit(tweet_sentiment['full_text'], y=tweet_sentiment['analysis'], groups=tweet_sentiment['polarity'])\n",
        "print(\"Best C:\", gs.best_params_['lr__C'])"
      ],
      "execution_count": null,
      "outputs": [
        {
          "output_type": "stream",
          "text": [
            "Fitting 3 folds for each of 11 candidates, totalling 33 fits\n"
          ],
          "name": "stdout"
        },
        {
          "output_type": "stream",
          "text": [
            "[Parallel(n_jobs=1)]: Using backend SequentialBackend with 1 concurrent workers.\n"
          ],
          "name": "stderr"
        },
        {
          "output_type": "stream",
          "text": [
            "Best C: 2.2\n"
          ],
          "name": "stdout"
        },
        {
          "output_type": "stream",
          "text": [
            "[Parallel(n_jobs=1)]: Done  33 out of  33 | elapsed:    1.9s finished\n"
          ],
          "name": "stderr"
        }
      ]
    },
    {
      "cell_type": "code",
      "metadata": {
        "id": "T9Sy5pes3zj-",
        "colab": {
          "base_uri": "https://localhost:8080/"
        },
        "outputId": "2e569c04-6d1c-4f77-b0b3-6cda8ce8e42e"
      },
      "source": [
        "from sklearn.model_selection import cross_validate\n",
        "\n",
        "pipeline.set_params(lr__C=gs.best_params_['lr__C'])\n",
        "\n",
        "print(\"Running stratified k-fold...\", end='')\n",
        "skf_results = cross_validate(\n",
        "    pipeline, \n",
        "    X=tweet_sentiment['full_text'], \n",
        "    y=tweet_sentiment['analysis'], \n",
        "    cv=skf, \n",
        "    return_train_score=False, \n",
        "    verbose=False)\n",
        "print(\" done.\")\n",
        "\n",
        "print(\"Running group k-fold...\", end='')\n",
        "gkf_results = cross_validate(\n",
        "    pipeline, \n",
        "    X=tweet_sentiment['full_text'], \n",
        "    y=tweet_sentiment['analysis'], \n",
        "    groups=tweet_sentiment['polarity'], \n",
        "    cv=gkf, \n",
        "    return_train_score=False, \n",
        "    verbose=False)\n",
        "print(\" done.\\n\")\n",
        "\n",
        "print(\"Stratified k-fold average accuracy:\", np.mean(skf_results['test_score']))\n",
        "print(\"Group k-fold average accuracy:\", np.mean(gkf_results['test_score']))"
      ],
      "execution_count": null,
      "outputs": [
        {
          "output_type": "stream",
          "text": [
            "Running stratified k-fold... done.\n",
            "Running group k-fold... done.\n",
            "\n",
            "Stratified k-fold average accuracy: 0.6785822021116139\n",
            "Group k-fold average accuracy: 0.07222222222222223\n"
          ],
          "name": "stdout"
        }
      ]
    },
    {
      "cell_type": "code",
      "metadata": {
        "id": "ji7wBdgQ3zkA"
      },
      "source": [
        ""
      ],
      "execution_count": null,
      "outputs": []
    }
  ]
}